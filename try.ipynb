{
 "cells": [
  {
   "cell_type": "code",
   "execution_count": 2,
   "metadata": {},
   "outputs": [],
   "source": [
    "import numpy as np\n",
    "import matplotlib.pyplot as plt\n",
    "import cv2\n",
    "import random"
   ]
  },
  {
   "attachments": {},
   "cell_type": "markdown",
   "metadata": {},
   "source": [
    "**padding function**"
   ]
  },
  {
   "cell_type": "code",
   "execution_count": 4,
   "metadata": {},
   "outputs": [],
   "source": [
    "def padding(image):\n",
    "    padded_image = np.zeros((image.shape[0]+2,image.shape[1]+2))\n",
    "    padded_image[1:image.shape[0]+1,1:image.shape[1]+1]=image \n",
    "    return padded_image"
   ]
  },
  {
   "attachments": {},
   "cell_type": "markdown",
   "metadata": {},
   "source": [
    "**Averaging**"
   ]
  },
  {
   "cell_type": "code",
   "execution_count": 5,
   "metadata": {},
   "outputs": [],
   "source": [
    "def average_filter(image_data,filter_size):\n",
    "    filter = np.ones((filter_size,filter_size))/(filter_size)**2\n",
    "    padded = padding(image_data)\n",
    "    new_img = np.zeros((image_data.shape[0],image_data.shape[1]))\n",
    "    for i in range(image_data.shape[0]):\n",
    "        for j in range(image_data.shape[1]):\n",
    "            new_img[i][j] = np.sum((padded[i:i+filter_size,j:j+filter_size]*filter))\n",
    "    return new_img"
   ]
  },
  {
   "attachments": {},
   "cell_type": "markdown",
   "metadata": {},
   "source": [
    "**median Filter**"
   ]
  },
  {
   "cell_type": "code",
   "execution_count": 6,
   "metadata": {},
   "outputs": [],
   "source": [
    "def median_filter(image_data,filter_size):\n",
    "    padded = padding(image_data)\n",
    "    new_img = np.zeros((image_data.shape[0],image_data.shape[1]))\n",
    "    for i in range(image_data.shape[0]):\n",
    "        for j in range(image_data.shape[1]):\n",
    "            new_img[i][j] = np.median(padded[i:i+filter_size,j:j+filter_size])\n",
    "    return new_img"
   ]
  },
  {
   "attachments": {},
   "cell_type": "markdown",
   "metadata": {},
   "source": [
    "**gaussian Filter**"
   ]
  },
  {
   "cell_type": "code",
   "execution_count": 10,
   "metadata": {},
   "outputs": [],
   "source": [
    "img = cv2.imread('./images/Lenna_(test_image).png',cv2.IMREAD_GRAYSCALE)"
   ]
  },
  {
   "cell_type": "code",
   "execution_count": 41,
   "metadata": {},
   "outputs": [],
   "source": [
    "def low_high_pass(image,selection,mask_size):\n",
    "    x = 256-mask_size\n",
    "    y = 256+mask_size\n",
    "    img_fou = np.fft.fft2(image)\n",
    "    img_fou = np.fft.fftshift(img_fou)\n",
    "    if selection == \"high\":\n",
    "        mask = np.ones((512,512))\n",
    "        mask[x:y,x:y] = 0\n",
    "    elif selection == \"low\":\n",
    "        mask = np.zeros((512,512))\n",
    "        mask[x:y,x:y] = 1\n",
    "    new_fou = mask*img_fou\n",
    "    new_fou = np.fft.ifftshift(new_fou)\n",
    "    new_fou = np.fft.ifft2(new_fou)\n",
    "    return np.abs(new_fou)"
   ]
  },
  {
   "attachments": {},
   "cell_type": "markdown",
   "metadata": {},
   "source": [
    "**High Pass**"
   ]
  },
  {
   "cell_type": "code",
   "execution_count": 8,
   "metadata": {},
   "outputs": [],
   "source": [
    "def high_filter(image_data,filter_size=3):\n",
    "    filter = np.array([[-1,-1,-1],[-1,8,-1],[-1,-1,-1]])/9\n",
    "    padded = padding(image_data)\n",
    "    new_img = np.zeros((image_data.shape[0],image_data.shape[1]))\n",
    "    for i in range(image_data.shape[0]):\n",
    "        for j in range(image_data.shape[1]):\n",
    "            new_img[i][j] = np.sum((padded[i:i+filter_size,j:j+filter_size]*filter))\n",
    "    return new_img"
   ]
  },
  {
   "attachments": {},
   "cell_type": "markdown",
   "metadata": {},
   "source": [
    "**Gray Scale**"
   ]
  },
  {
   "cell_type": "code",
   "execution_count": 35,
   "metadata": {},
   "outputs": [],
   "source": [
    "def rgb2gray(image):\n",
    "    new_image = 0.299*image[:,:,0]+0.587*image[:,:,1]+0.114*image[:,:,2]\n",
    "    return new_image"
   ]
  },
  {
   "attachments": {},
   "cell_type": "markdown",
   "metadata": {},
   "source": [
    "**Hybrid**"
   ]
  },
  {
   "cell_type": "code",
   "execution_count": 56,
   "metadata": {},
   "outputs": [],
   "source": [
    "def hybrid(image1,image2):\n",
    "    \"\"\"image1: high filter image\n",
    "    image2: low pass image\"\"\"\n",
    "    image1 = rgb2gray(image1)\n",
    "    image2 = rgb2gray(image2)\n",
    "    image1 = high_filter(image1)\n",
    "    image2 = average_filter(image2)\n",
    "    new_image = image1+image2\n",
    "    return new_image"
   ]
  },
  {
   "cell_type": "code",
   "execution_count": 49,
   "metadata": {},
   "outputs": [],
   "source": [
    "def rgb_histogram(image):\n",
    "    r = image[:,:,0]\n",
    "    g = image[:,:,1]\n",
    "    b = image[:,:,2]\n",
    "    plt.hist(r.ravel(),256,[0,256],color='r')\n",
    "    plt.hist(g.ravel(),256,[0,256],color='g')\n",
    "    plt.hist(b.ravel(),256,[0,256],color='b')\n",
    "    plt.show()"
   ]
  },
  {
   "cell_type": "code",
   "execution_count": 60,
   "metadata": {},
   "outputs": [],
   "source": [
    "img = cv2.imread('./images/Tiger.jpg')"
   ]
  },
  {
   "cell_type": "code",
   "execution_count": 61,
   "metadata": {},
   "outputs": [
    {
     "data": {
      "image/png": "[encoded data removed]",
      "text/plain": [
       "<Figure size 432x288 with 1 Axes>"
      ]
     },
     "metadata": {
      "needs_background": "light"
     },
     "output_type": "display_data"
    }
   ],
   "source": [
    "# img1 = rgb2gray(img)\n",
    "img = rgb_histogram(img)\n",
    "# img1 = np.array(img1,dtype='uint8')"
   ]
  },
  {
   "cell_type": "code",
   "execution_count": null,
   "metadata": {},
   "outputs": [],
   "source": []
  }
 ],
 "metadata": {
  "kernelspec": {
   "display_name": "Python 3",
   "language": "python",
   "name": "python3"
  },
  "language_info": {
   "codemirror_mode": {
    "name": "ipython",
    "version": 3
   },
   "file_extension": ".py",
   "mimetype": "text/x-python",
   "name": "python",
   "nbconvert_exporter": "python",
   "pygments_lexer": "ipython3",
   "version": "3.8.3"
  },
  "orig_nbformat": 4,
  "vscode": {
   "interpreter": {
    "hash": "f544ce1a915a9875fad91c894e2c0bcad4b7a79945aa6027ef3ad27810072aa6"
   }
  }
 },
 "nbformat": 4,
 "nbformat_minor": 2
}
